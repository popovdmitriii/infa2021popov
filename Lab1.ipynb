{
 "cells": [
  {
   "cell_type": "markdown",
   "metadata": {},
   "source": [
    "# Определения\n",
    "\n",
    "**Случайная величина** — переменная, значения которой представляют исходы некоторого эксперимента. Её значение неизвестно до эксперимента, однако может быть известно распределение.\n",
    "\n",
    "**Наблюдения** — записанные данные о значениях случайной переменной.\n",
    "\n",
    "## Типы переменных\n",
    "\n",
    "<span style=\"color:green\">**Качественные переменные**</span>\n",
    "\n",
    "**Номинальные переменные** показывают принадлежность к какому-либо классу; ничего об отношениях классов сказать нельзя. Пример — номера на футболках спортсменов, цвет глаз дрозофил.\n",
    "\n",
    "**Порядковые (ординальные, ранговые) переменные** показывают степень проявления какого-либо свойства и могут быть упорядочены. Пример — оценка качества обслуживания.\n",
    "\n",
    "<span style=\"color:green\">**Количественные переменные**</span>\n",
    "\n",
    "**Интервальные переменные** позволяют не только упорядочивать объекты измерения, но и численно выразить и сравнить разности значений переменных. Пример — градусы Цельсия.\n",
    "\n",
    "**Относительные переменные** позволяют численно выражать и сравнивать отношения переменных. Пример — градусы Кельвина, масса"
   ]
  },
  {
   "cell_type": "markdown",
   "metadata": {},
   "source": [
    "# Способы описания данных\n",
    "\n",
    "## Численные\n",
    "\n",
    "### Номинальные переменные\n",
    "\n",
    "**Таблица**\n",
    "\n",
    "|Статус|Пероральное введение|Внутривенное введение|Нет введения|\n",
    "|------|--------------------|---------------------|------------|\n",
    "|Живые |7|5|3|\n",
    "|Мёртвые|3|7|12|\n",
    "\n",
    "**Натуральные числа по числу классов**\n",
    "\n",
    "|Образец №|Жив?|\n",
    "|---|---|\n",
    "|1|1|\n",
    "|7|0|\n",
    "|13|1|\n",
    "\n",
    "**Вектор из 0 и 1**\n",
    "\n",
    "Дни недели\n",
    "- Понедельник (1, 0, 0, 0, 0, 0)\n",
    "- Вторник (0, 1, 0, 0, 0, 0)\n",
    "- Среда (0, 0, 1, 0, 0, 0)\n",
    "- Четверг (0, 0, 0, 1, 0, 0)\n",
    "- Пятница (0, 0, 0, 0, 1, 0)\n",
    "- Суббота (0, 0, 0, 0, 0, 1)\n",
    "- Воскресенье (0, 0, 0, 0, 0, 0)\n",
    "\n",
    "### Количественные переменные\n",
    "\n",
    "**Меры центра**\n",
    "\n",
    "- Среднее *x<sub>mean</sub>*=(*x*<sub>1</sub>+*x*<sub>2</sub>+...+*x*<sub>*n*</sub>)/n\n",
    "- Медиана\n",
    "<img src=\"median.png\" width=400/>"
   ]
  },
  {
   "cell_type": "markdown",
   "metadata": {},
   "source": [
    "## Упражнение 1\n",
    "\n",
    "Напишите функцию, которая возвращает медиану непустого упорядоченного списка, и продемонстрируйте её корректность её работы"
   ]
  },
  {
   "cell_type": "code",
   "execution_count": 20,
   "metadata": {},
   "outputs": [
    {
     "name": "stdout",
     "output_type": "stream",
     "text": [
      "6\n",
      "1\n",
      "2\n",
      "3\n",
      "4\n",
      "5\n",
      "6\n",
      "3.5\n"
     ]
    }
   ],
   "source": [
    "A = []\n",
    "a=0\n",
    "b=0\n",
    "for i in range(int(input())):\n",
    "    A.append(int(input()))\n",
    "if(len(A) % 2 == 0):\n",
    "    a = len(A) // 2 - 1\n",
    "    b = len(A) // 2\n",
    "    print(A[a]/2+A[b]/2)\n",
    "if(len(A) % 2 == 1):\n",
    "    a = len(A) // 2 - 0.5\n",
    "    print(int(A[a]))\n",
    "\n",
    "    \n",
    "    \n"
   ]
  },
  {
   "cell_type": "markdown",
   "metadata": {},
   "source": [
    "**Меры разброса**\n",
    "\n",
    "- несмещённая дисперсия и среднеквадратичное отклонение\n",
    "<img src=\"dispersion.png\" width=200>\n",
    "- межквартильный размах\n",
    "<img src=\"iq.png\" width=400>"
   ]
  },
  {
   "cell_type": "markdown",
   "metadata": {},
   "source": [
    "## Упражнение 2\n",
    "Напишите функцию, которая печатает среднеквадратичное отклонение и межквартильный размах непустого упорядоченного списка, и продемонстрируйте её корректность её работы"
   ]
  },
  {
   "cell_type": "code",
   "execution_count": 32,
   "metadata": {},
   "outputs": [
    {
     "name": "stdout",
     "output_type": "stream",
     "text": [
      "6\n",
      "1\n",
      "2\n",
      "3\n",
      "4\n",
      "5\n",
      "6\n",
      "1.8708286933869707\n",
      "3.5\n",
      "3.0\n"
     ]
    }
   ],
   "source": [
    "C = []\n",
    "a=0\n",
    "b=0\n",
    "d=0\n",
    "xx=0\n",
    "for i in range(int(input())):\n",
    "    C.append(int(input()))\n",
    "for i in range(len(C)):\n",
    "    xx=xx+C[i]\n",
    "x=xx/float(len(C))\n",
    "if(len(C) % 2 == 0):\n",
    "    a = len(C) // 2 - 1\n",
    "    b = len(C) // 2\n",
    "    A = C[0 : a]\n",
    "    B = C[b : len(C)-1]\n",
    "    mC = C[a]/2+C[b]/2\n",
    "if(len(C) % 2 == 1):\n",
    "    a = len(C) // 2 - 0.5\n",
    "    A = C[0 : a-1]\n",
    "    B = C[a+1 : len(C)-1]\n",
    "    mC = int(C[a])\n",
    "if(len(A) % 2 == 0):\n",
    "    a = len(A) // 2 - 1\n",
    "    b = len(A) // 2\n",
    "    mA = A[a]/2+A[b]/2\n",
    "if(len(A) % 2 == 1):\n",
    "    a = len(A) // 2 - 0.5\n",
    "    mA = int(A[a])\n",
    "if(len(B) % 2 == 0):\n",
    "    a = len(B) // 2 - 1\n",
    "    b = len(B) // 2\n",
    "    mB = B[a]/2+B[b]/2\n",
    "if(len(B) % 2 == 1):\n",
    "    a = len(B) // 2 - 0.5\n",
    "    mB = int(B[a])\n",
    "for i in range(len(C)):\n",
    "    d=d+(C[i]-x)**2\n",
    "c=(d/(len(C)-1))**0.5\n",
    "print(c)\n",
    "print(x)\n",
    "print(mB-mA)"
   ]
  },
  {
   "cell_type": "markdown",
   "metadata": {},
   "source": [
    "## Графические методы\n",
    "\n",
    "### Номинальные переменные\n",
    "\n",
    "- Столбчатая диаграмма"
   ]
  },
  {
   "cell_type": "code",
   "execution_count": 9,
   "metadata": {},
   "outputs": [
    {
     "data": {
      "image/png": "[encoded data removed]",
      "text/plain": [
       "<Figure size 432x288 with 1 Axes>"
      ]
     },
     "metadata": {
      "needs_background": "light"
     },
     "output_type": "display_data"
    }
   ],
   "source": [
    "import matplotlib.pyplot as plt\n",
    "colors = ['white', 'pink', 'red']\n",
    "labels = ['белые', 'розовые', 'красные']\n",
    "x = [1, 2, 3]\n",
    "y = [37, 75, 94]\n",
    "plt.bar(x, y, color=colors, edgecolor='k', tick_label=labels)\n",
    "plt.grid(True, axis='y')"
   ]
  },
  {
   "cell_type": "markdown",
   "metadata": {},
   "source": [
    "- Круговая диаграмма"
   ]
  },
  {
   "cell_type": "code",
   "execution_count": 12,
   "metadata": {},
   "outputs": [
    {
     "data": {
      "image/png": "[encoded data removed]",
      "text/plain": [
       "<Figure size 432x288 with 1 Axes>"
      ]
     },
     "metadata": {},
     "output_type": "display_data"
    }
   ],
   "source": [
    "data = [33, 25, 20, 12, 10]\n",
    "plt.title('Название', size=14)\n",
    "plt.pie(data, labels=('Класс 1', 'Класс 2', 'Класс 3', 'Класс 4', 'Класс 5'))\n",
    "plt.show()"
   ]
  },
  {
   "cell_type": "markdown",
   "metadata": {},
   "source": [
    "## Упражнение 3\n",
    "\n",
    "В президентских выборах участвовало 5 кандидатов: А., Б., В., Г., Д. Социологическая служба провела опрос за месяц до выборов, за неделю до выборов и экзит-полл.\n",
    "\n",
    "|Опрос|А. |Б. |В. |Г. |Д. |\n",
    "|-----|---|---|---|---|---|\n",
    "|#1   | 16| 18| 20| 22| 24|\n",
    "|#2   | 20| 20| 18| 22| 20|\n",
    "|#3   | 24| 22| 20| 18| 16|\n",
    "\n",
    "Постройте круговые и столбчатые диаграммы результатов опросов. В комментариях к коду напишите, какие диаграммы показались Вам более наглядными."
   ]
  },
  {
   "cell_type": "code",
   "execution_count": null,
   "metadata": {},
   "outputs": [],
   "source": [
    "# ваш код здесь\n",
    "\n",
    "# Не забудьте написать вывод о наглядности диаграмм"
   ]
  }
 ],
 "metadata": {
  "kernelspec": {
   "display_name": "Python 3 (ipykernel)",
   "language": "python",
   "name": "python3"
  },
  "language_info": {
   "codemirror_mode": {
    "name": "ipython",
    "version": 3
   },
   "file_extension": ".py",
   "mimetype": "text/x-python",
   "name": "python",
   "nbconvert_exporter": "python",
   "pygments_lexer": "ipython3",
   "version": "3.8.11"
  }
 },
 "nbformat": 4,
 "nbformat_minor": 4
}
